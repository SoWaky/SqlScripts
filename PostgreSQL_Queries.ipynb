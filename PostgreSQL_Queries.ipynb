{
    "metadata": {
        "kernelspec": {
            "name": "SQL",
            "display_name": "SQL",
            "language": "sql"
        },
        "language_info": {
            "name": "sql",
            "version": ""
        }
    },
    "nbformat_minor": 2,
    "nbformat": 4,
    "cells": [
        {
            "cell_type": "code",
            "source": [
                "SELECT *\n",
                "       FROM information_schema.columns\n",
                "       WHERE 1=1\n",
                "             AND table_schema = 'public'\n",
                "             --AND table_name LIKE '%filer%'\n",
                "             AND column_name LIKE '%tag%'\n",
                "       ORDER BY 1,2,3,4;"
            ],
            "metadata": {
                "azdata_cell_guid": "050dc7df-bed2-40c3-9048-f882479844ca"
            },
            "outputs": [
{
    "output_type": "display_data",
    "data": {
        "text/html": "(2 row(s) affected)"
    },
    "metadata": {}
}, {
    "output_type": "display_data",
    "data": {
        "text/html": "Total execution time: 00:00:00.134"
    },
    "metadata": {}
}, {
    "output_type": "execute_result",
    "metadata": {},
    "execution_count": 1,
    "data": {
        "application/vnd.dataresource+json": {
            "schema": {
                "fields": [
                    {
                        "name": "table_catalog"
                    },
                    {
                        "name": "table_schema"
                    },
                    {
                        "name": "table_name"
                    },
                    {
                        "name": "column_name"
                    },
                    {
                        "name": "ordinal_position"
                    },
                    {
                        "name": "column_default"
                    },
                    {
                        "name": "is_nullable"
                    },
                    {
                        "name": "data_type"
                    },
                    {
                        "name": "character_maximum_length"
                    },
                    {
                        "name": "character_octet_length"
                    },
                    {
                        "name": "numeric_precision"
                    },
                    {
                        "name": "numeric_precision_radix"
                    },
                    {
                        "name": "numeric_scale"
                    },
                    {
                        "name": "datetime_precision"
                    },
                    {
                        "name": "interval_type"
                    },
                    {
                        "name": "interval_precision"
                    },
                    {
                        "name": "character_set_catalog"
                    },
                    {
                        "name": "character_set_schema"
                    },
                    {
                        "name": "character_set_name"
                    },
                    {
                        "name": "collation_catalog"
                    },
                    {
                        "name": "collation_schema"
                    },
                    {
                        "name": "collation_name"
                    },
                    {
                        "name": "domain_catalog"
                    },
                    {
                        "name": "domain_schema"
                    },
                    {
                        "name": "domain_name"
                    },
                    {
                        "name": "udt_catalog"
                    },
                    {
                        "name": "udt_schema"
                    },
                    {
                        "name": "udt_name"
                    },
                    {
                        "name": "scope_catalog"
                    },
                    {
                        "name": "scope_schema"
                    },
                    {
                        "name": "scope_name"
                    },
                    {
                        "name": "maximum_cardinality"
                    },
                    {
                        "name": "dtd_identifier"
                    },
                    {
                        "name": "is_self_referencing"
                    },
                    {
                        "name": "is_identity"
                    },
                    {
                        "name": "identity_generation"
                    },
                    {
                        "name": "identity_start"
                    },
                    {
                        "name": "identity_increment"
                    },
                    {
                        "name": "identity_maximum"
                    },
                    {
                        "name": "identity_minimum"
                    },
                    {
                        "name": "identity_cycle"
                    },
                    {
                        "name": "is_generated"
                    },
                    {
                        "name": "generation_expression"
                    },
                    {
                        "name": "is_updatable"
                    }
                ]
            },
            "data": [
                {
                    "0": "sama_cms",
                    "1": "public",
                    "2": "djangocms_style_style",
                    "3": "tag_type",
                    "4": "3",
                    "5": "NULL",
                    "6": "NO",
                    "7": "character varying",
                    "8": "255",
                    "9": "1020",
                    "10": "NULL",
                    "11": "NULL",
                    "12": "NULL",
                    "13": "NULL",
                    "14": "NULL",
                    "15": "NULL",
                    "16": "NULL",
                    "17": "NULL",
                    "18": "NULL",
                    "19": "NULL",
                    "20": "NULL",
                    "21": "NULL",
                    "22": "NULL",
                    "23": "NULL",
                    "24": "NULL",
                    "25": "sama_cms",
                    "26": "pg_catalog",
                    "27": "varchar",
                    "28": "NULL",
                    "29": "NULL",
                    "30": "NULL",
                    "31": "NULL",
                    "32": "3",
                    "33": "NO",
                    "34": "NO",
                    "35": "NULL",
                    "36": "NULL",
                    "37": "NULL",
                    "38": "NULL",
                    "39": "NULL",
                    "40": "NULL",
                    "41": "NEVER",
                    "42": "NULL",
                    "43": "YES"
                },
                {
                    "0": "sama_cms",
                    "1": "public",
                    "2": "taggit_taggeditem",
                    "3": "tag_id",
                    "4": "4",
                    "5": "NULL",
                    "6": "NO",
                    "7": "integer",
                    "8": "NULL",
                    "9": "NULL",
                    "10": "32",
                    "11": "2",
                    "12": "0",
                    "13": "NULL",
                    "14": "NULL",
                    "15": "NULL",
                    "16": "NULL",
                    "17": "NULL",
                    "18": "NULL",
                    "19": "NULL",
                    "20": "NULL",
                    "21": "NULL",
                    "22": "NULL",
                    "23": "NULL",
                    "24": "NULL",
                    "25": "sama_cms",
                    "26": "pg_catalog",
                    "27": "int4",
                    "28": "NULL",
                    "29": "NULL",
                    "30": "NULL",
                    "31": "NULL",
                    "32": "4",
                    "33": "NO",
                    "34": "NO",
                    "35": "NULL",
                    "36": "NULL",
                    "37": "NULL",
                    "38": "NULL",
                    "39": "NULL",
                    "40": "NULL",
                    "41": "NEVER",
                    "42": "NULL",
                    "43": "YES"
                }
            ]
        },
        "text/html": "<table><tr><th>table_catalog</th><th>table_schema</th><th>table_name</th><th>column_name</th><th>ordinal_position</th><th>column_default</th><th>is_nullable</th><th>data_type</th><th>character_maximum_length</th><th>character_octet_length</th><th>numeric_precision</th><th>numeric_precision_radix</th><th>numeric_scale</th><th>datetime_precision</th><th>interval_type</th><th>interval_precision</th><th>character_set_catalog</th><th>character_set_schema</th><th>character_set_name</th><th>collation_catalog</th><th>collation_schema</th><th>collation_name</th><th>domain_catalog</th><th>domain_schema</th><th>domain_name</th><th>udt_catalog</th><th>udt_schema</th><th>udt_name</th><th>scope_catalog</th><th>scope_schema</th><th>scope_name</th><th>maximum_cardinality</th><th>dtd_identifier</th><th>is_self_referencing</th><th>is_identity</th><th>identity_generation</th><th>identity_start</th><th>identity_increment</th><th>identity_maximum</th><th>identity_minimum</th><th>identity_cycle</th><th>is_generated</th><th>generation_expression</th><th>is_updatable</th></tr><tr><td>sama_cms</td><td>public</td><td>djangocms_style_style</td><td>tag_type</td><td>3</td><td>NULL</td><td>NO</td><td>character varying</td><td>255</td><td>1020</td><td>NULL</td><td>NULL</td><td>NULL</td><td>NULL</td><td>NULL</td><td>NULL</td><td>NULL</td><td>NULL</td><td>NULL</td><td>NULL</td><td>NULL</td><td>NULL</td><td>NULL</td><td>NULL</td><td>NULL</td><td>sama_cms</td><td>pg_catalog</td><td>varchar</td><td>NULL</td><td>NULL</td><td>NULL</td><td>NULL</td><td>3</td><td>NO</td><td>NO</td><td>NULL</td><td>NULL</td><td>NULL</td><td>NULL</td><td>NULL</td><td>NULL</td><td>NEVER</td><td>NULL</td><td>YES</td></tr><tr><td>sama_cms</td><td>public</td><td>taggit_taggeditem</td><td>tag_id</td><td>4</td><td>NULL</td><td>NO</td><td>integer</td><td>NULL</td><td>NULL</td><td>32</td><td>2</td><td>0</td><td>NULL</td><td>NULL</td><td>NULL</td><td>NULL</td><td>NULL</td><td>NULL</td><td>NULL</td><td>NULL</td><td>NULL</td><td>NULL</td><td>NULL</td><td>NULL</td><td>sama_cms</td><td>pg_catalog</td><td>int4</td><td>NULL</td><td>NULL</td><td>NULL</td><td>NULL</td><td>4</td><td>NO</td><td>NO</td><td>NULL</td><td>NULL</td><td>NULL</td><td>NULL</td><td>NULL</td><td>NULL</td><td>NEVER</td><td>NULL</td><td>YES</td></tr></table>"
    }
}
],
            "execution_count": 1
        }
    ]
}